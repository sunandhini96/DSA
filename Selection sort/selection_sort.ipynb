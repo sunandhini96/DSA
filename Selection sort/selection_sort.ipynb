{
  "nbformat": 4,
  "nbformat_minor": 0,
  "metadata": {
    "colab": {
      "provenance": [],
      "authorship_tag": "ABX9TyP7npfZhHRn8mJ4a+cLoInd",
      "include_colab_link": true
    },
    "kernelspec": {
      "name": "python3",
      "display_name": "Python 3"
    },
    "language_info": {
      "name": "python"
    }
  },
  "cells": [
    {
      "cell_type": "markdown",
      "metadata": {
        "id": "view-in-github",
        "colab_type": "text"
      },
      "source": [
        "<a href=\"https://colab.research.google.com/github/sunandhini96/DSA/blob/main/Selection%20sort/selection_sort.ipynb\" target=\"_parent\"><img src=\"https://colab.research.google.com/assets/colab-badge.svg\" alt=\"Open In Colab\"/></a>"
      ]
    },
    {
      "cell_type": "markdown",
      "source": [
        "## Selection sort : in-place comparision based algorithm\n",
        "### Steps :     \n",
        "1. Search the list and findout minimum number\n",
        "2. swap the smallest number to 0th index\n",
        "3. Take the unsorted list(sublist) and repeat the step 1 and 2."
      ],
      "metadata": {
        "id": "JlKktg--m011"
      }
    },
    {
      "cell_type": "markdown",
      "source": [
        "# Ascending Order ( using min() method))"
      ],
      "metadata": {
        "id": "7-0yvsBro0F8"
      }
    },
    {
      "cell_type": "markdown",
      "source": [
        "## Without duplicates"
      ],
      "metadata": {
        "id": "2DSf0ypFoNk_"
      }
    },
    {
      "cell_type": "code",
      "execution_count": 4,
      "metadata": {
        "colab": {
          "base_uri": "https://localhost:8080/"
        },
        "id": "w9QbqqremyFb",
        "outputId": "1092b0d3-8aee-4017-ef1e-416b2fd40419"
      },
      "outputs": [
        {
          "output_type": "stream",
          "name": "stdout",
          "text": [
            "[4, 5, 9, 23, 24]\n"
          ]
        }
      ],
      "source": [
        "list1=[23,5,9,24,4]\n",
        "for i in range(len(list1)-1):\n",
        "  min_val=min(list1[i:])\n",
        "  min_ind=list1.index(min_val)\n",
        "  list1[i],list1[min_ind]=list1[min_ind],list1[i]\n",
        "print(list1)\n"
      ]
    },
    {
      "cell_type": "markdown",
      "source": [
        "## With duplicates"
      ],
      "metadata": {
        "id": "o5bNQcwOobWC"
      }
    },
    {
      "cell_type": "code",
      "source": [
        "list1=[23,5,4,23,25]\n",
        "for i in range(len(list1)-1):\n",
        "  min_val=min(list1[i:])\n",
        "  min_ind=list1.index(min_val,i)\n",
        "  list1[i],list1[min_ind]=list1[min_ind],list1[i]\n",
        "print(list1)"
      ],
      "metadata": {
        "colab": {
          "base_uri": "https://localhost:8080/"
        },
        "id": "vD2zziLFoapI",
        "outputId": "0c590d21-23a3-4c06-c67f-d73d6e2f1652"
      },
      "execution_count": 11,
      "outputs": [
        {
          "output_type": "stream",
          "name": "stdout",
          "text": [
            "[4, 5, 23, 23, 25]\n"
          ]
        }
      ]
    },
    {
      "cell_type": "code",
      "source": [
        "### adding condition to avoid swap when same value in index i and min_index\n",
        "list1=[23,5,4,23,25]\n",
        "for i in range(len(list1)-1):\n",
        "  min_val=min(list1[i:])\n",
        "  min_ind=list1.index(min_val,i)\n",
        "  if list1[i]!=list1[min_ind]:\n",
        "      list1[i],list1[min_ind]=list1[min_ind],list1[i]\n",
        "\n",
        "print(list1)"
      ],
      "metadata": {
        "colab": {
          "base_uri": "https://localhost:8080/"
        },
        "id": "EHKXeydcqPp8",
        "outputId": "0e7693a5-2472-48b7-9b0c-9d652dca3e51"
      },
      "execution_count": 12,
      "outputs": [
        {
          "output_type": "stream",
          "name": "stdout",
          "text": [
            "[4, 5, 23, 23, 25]\n"
          ]
        }
      ]
    },
    {
      "cell_type": "markdown",
      "source": [
        "# Descending order ( using max() method))"
      ],
      "metadata": {
        "id": "_vWLjn6Co6y1"
      }
    },
    {
      "cell_type": "markdown",
      "source": [
        "## without duplicates"
      ],
      "metadata": {
        "id": "h3rzBTbkpNOX"
      }
    },
    {
      "cell_type": "code",
      "source": [
        "list1=[23,5,9,24,4]\n",
        "for i in range(len(list1)-1):\n",
        "  max_val=max(list1[i:])\n",
        "  max_ind=list1.index(max_val)\n",
        "  list1[i],list1[max_ind]=list1[max_ind],list1[i]\n",
        "print(list1)"
      ],
      "metadata": {
        "colab": {
          "base_uri": "https://localhost:8080/"
        },
        "id": "at8R_yYkolqW",
        "outputId": "0a5333ea-7785-4574-9f6c-1a472f55f760"
      },
      "execution_count": 8,
      "outputs": [
        {
          "output_type": "stream",
          "name": "stdout",
          "text": [
            "[24, 23, 9, 5, 4]\n"
          ]
        }
      ]
    },
    {
      "cell_type": "markdown",
      "source": [
        "## With duplicates"
      ],
      "metadata": {
        "id": "3usz4qPEpSCR"
      }
    },
    {
      "cell_type": "code",
      "source": [
        "list1=[23,5,9,5,4]\n",
        "for i in range(len(list1)-1):\n",
        "  max_val=max(list1[i:])\n",
        "  max_ind=list1.index(max_val,i)\n",
        "  list1[i],list1[max_ind]=list1[max_ind],list1[i]\n",
        "print(list1)"
      ],
      "metadata": {
        "colab": {
          "base_uri": "https://localhost:8080/"
        },
        "id": "9dPPrPz1pRes",
        "outputId": "eab0eba4-d178-475a-b33e-fb0f4c37cbab"
      },
      "execution_count": 10,
      "outputs": [
        {
          "output_type": "stream",
          "name": "stdout",
          "text": [
            "[23, 9, 5, 5, 4]\n"
          ]
        }
      ]
    },
    {
      "cell_type": "markdown",
      "source": [
        "## Ascending order --> without using builtin methods"
      ],
      "metadata": {
        "id": "Kuw58g5vrMv6"
      }
    },
    {
      "cell_type": "code",
      "source": [
        "list1=[23,5,4,23,25]\n",
        "for i in range(len(list1)-1):\n",
        "  min_val=list1[i]\n",
        "  for j in range(i+1,len(list1)):\n",
        "      if min_val > list1[j]:\n",
        "        min_val=list1[j]\n",
        "\n",
        "  min_ind=list1.index(min_val,i)\n",
        "  if list1[i]!=list1[min_ind]:\n",
        "      list1[i],list1[min_ind]=list1[min_ind],list1[i]\n",
        "\n",
        "print(list1)"
      ],
      "metadata": {
        "colab": {
          "base_uri": "https://localhost:8080/"
        },
        "id": "URcN-NLDq7iY",
        "outputId": "b4aef885-05d9-4c0f-855b-7adf07177116"
      },
      "execution_count": 13,
      "outputs": [
        {
          "output_type": "stream",
          "name": "stdout",
          "text": [
            "[4, 5, 23, 23, 25]\n"
          ]
        }
      ]
    },
    {
      "cell_type": "markdown",
      "source": [
        "## Descending order --> without using builtin methods"
      ],
      "metadata": {
        "id": "8YNNBelWsasg"
      }
    },
    {
      "cell_type": "code",
      "source": [
        "list1=[23,5,4,23,25]\n",
        "for i in range(len(list1)-1):\n",
        "  max_val=list1[i]\n",
        "  for j in range(i+1,len(list1)):\n",
        "      if max_val < list1[j]:\n",
        "        max_val=list1[j]\n",
        "\n",
        "  max_ind=list1.index(max_val,i)\n",
        "  if list1[i]!=list1[max_ind]:\n",
        "      list1[i],list1[max_ind]=list1[max_ind],list1[i]\n",
        "\n",
        "print(list1)\n",
        "\n",
        "\n",
        "# without using index method\n",
        "#list1=[23,5,4,23,25]\n",
        "\n",
        "num=int(input(\"how many numbers you want to enter?\"))\n",
        "list1=[int(input(\"enter number\")) for x in range(num)]\n",
        "for i in range(len(list1)-1):\n",
        "  max_ind=i\n",
        "  for j in range(i+1,len(list1)):\n",
        "      if list1[max_ind] < list1[j]:\n",
        "        max_ind=j\n",
        "\n",
        "\n",
        "  if list1[i]!=list1[max_ind]:\n",
        "      list1[i],list1[max_ind]=list1[max_ind],list1[i]\n",
        "\n",
        "print(list1)"
      ],
      "metadata": {
        "colab": {
          "base_uri": "https://localhost:8080/"
        },
        "id": "cTAFrwqOq7U7",
        "outputId": "872e264d-7dde-4795-8c47-7a002c2591c6"
      },
      "execution_count": 17,
      "outputs": [
        {
          "output_type": "stream",
          "name": "stdout",
          "text": [
            "[25, 23, 23, 5, 4]\n",
            "how many numbers you want to enter?4\n",
            "enter number7\n",
            "enter number0\n",
            "enter number5\n",
            "enter number9\n",
            "[9, 7, 5, 0]\n"
          ]
        }
      ]
    }
  ]
}
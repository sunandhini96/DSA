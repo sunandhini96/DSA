{
  "nbformat": 4,
  "nbformat_minor": 0,
  "metadata": {
    "colab": {
      "provenance": [],
      "authorship_tag": "ABX9TyNnxTdOhysLvKYsCm8Kh8Nv",
      "include_colab_link": true
    },
    "kernelspec": {
      "name": "python3",
      "display_name": "Python 3"
    },
    "language_info": {
      "name": "python"
    }
  },
  "cells": [
    {
      "cell_type": "markdown",
      "metadata": {
        "id": "view-in-github",
        "colab_type": "text"
      },
      "source": [
        "<a href=\"https://colab.research.google.com/github/sunandhini96/DSA/blob/main/Insertion_sort/insertion_sort.ipynb\" target=\"_parent\"><img src=\"https://colab.research.google.com/assets/colab-badge.svg\" alt=\"Open In Colab\"/></a>"
      ]
    },
    {
      "cell_type": "markdown",
      "source": [
        "# Insertion sort\n",
        "## steps:\n",
        "1. consider first element to be sorted and rest to be unsorted\n",
        "2. take the first element of unsorted part (u1) and compare it with sorted part element(s1)\n",
        "3. if u1 < s1 insert u1 in correct index else leave it as it is.\n",
        "4. take next element in unsorted part and compare with sorted elements\n",
        "5. repeat step 3 and 4 untill sorted the list."
      ],
      "metadata": {
        "id": "Cbke2592DJab"
      }
    },
    {
      "cell_type": "code",
      "execution_count": 4,
      "metadata": {
        "colab": {
          "base_uri": "https://localhost:8080/"
        },
        "id": "njRHZXN_DAr9",
        "outputId": "73994daa-6262-4e52-9fa2-1bbd13db7c55"
      },
      "outputs": [
        {
          "output_type": "stream",
          "name": "stdout",
          "text": [
            "sorted list is [1, 2, 4, 5, 9]\n"
          ]
        }
      ],
      "source": [
        "def insertionsort(list1):\n",
        "    for index in range(1,len(list1)):\n",
        "      current_ele=list1[index]\n",
        "      pos=index\n",
        "      while current_ele  < list1[pos-1] and pos > 0:\n",
        "        list1[pos]=list1[pos-1]\n",
        "        pos-=1\n",
        "      list1[pos]=current_ele\n",
        "\n",
        "\n",
        "\n",
        "\n",
        "\n",
        "#num=int(input(\"number of elements you want in a list\"))\n",
        "list1=[5,9,1,4,2]\n",
        "insertionsort(list1)\n",
        "print(\"sorted list is\",list1)\n"
      ]
    }
  ]
}
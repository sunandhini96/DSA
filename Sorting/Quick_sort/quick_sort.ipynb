{
  "nbformat": 4,
  "nbformat_minor": 0,
  "metadata": {
    "colab": {
      "provenance": [],
      "authorship_tag": "ABX9TyNYYnWP101CaP/RYibTm2nD",
      "include_colab_link": true
    },
    "kernelspec": {
      "name": "python3",
      "display_name": "Python 3"
    },
    "language_info": {
      "name": "python"
    }
  },
  "cells": [
    {
      "cell_type": "markdown",
      "metadata": {
        "id": "view-in-github",
        "colab_type": "text"
      },
      "source": [
        "<a href=\"https://colab.research.google.com/github/sunandhini96/DSA/blob/main/Sorting/Quick_sort/quick_sort.ipynb\" target=\"_parent\"><img src=\"https://colab.research.google.com/assets/colab-badge.svg\" alt=\"Open In Colab\"/></a>"
      ]
    },
    {
      "cell_type": "markdown",
      "source": [
        "## quick sort : divide, conquer and combine\n",
        "### Steps :     \n",
        "1. left <= right\n",
        "2. a[left]<=pivot\n",
        "3. a[right]>=pivot\n",
        "\n",
        "1. select pivot element\n",
        "2. find out correct position of pivot element in list by rearranging it.\n",
        "3. Divide the list based on pivot element\n",
        "4. sort sublist recursively"
      ],
      "metadata": {
        "id": "JlKktg--m011"
      }
    },
    {
      "cell_type": "markdown",
      "source": [
        "# Ascending Order"
      ],
      "metadata": {
        "id": "7-0yvsBro0F8"
      }
    },
    {
      "cell_type": "markdown",
      "source": [
        "## Pivot : first element"
      ],
      "metadata": {
        "id": "FbeSJM0-cUy0"
      }
    },
    {
      "cell_type": "code",
      "execution_count": 1,
      "metadata": {
        "colab": {
          "base_uri": "https://localhost:8080/"
        },
        "id": "w9QbqqremyFb",
        "outputId": "d94f31c5-6fcd-4132-87a2-c4897fd4eedf"
      },
      "outputs": [
        {
          "output_type": "stream",
          "name": "stdout",
          "text": [
            "[0, 2, 4, 6, 9]\n"
          ]
        }
      ],
      "source": [
        "# to get the correct position of the pivot elemenet\n",
        "def pivot_position(list1,first,last):\n",
        "  pivot=list1[first]\n",
        "  left=first+1\n",
        "  right=last\n",
        "  while True:\n",
        "    while left<=right and list1[left]<=pivot:\n",
        "      left+=1\n",
        "    while left<=right and list1[right]>=pivot:\n",
        "      right-=1\n",
        "    if left>right:\n",
        "      break\n",
        "    else:\n",
        "      list1[left],list1[right]=list1[right],list1[left]\n",
        "  list1[first],list1[right]=list1[right],list1[first]\n",
        "  return right\n",
        "def quicksort(list1,first,last):\n",
        "  if first<last:\n",
        "      p=pivot_position(list1,first,last)\n",
        "      quicksort(list1,first,p-1)\n",
        "      quicksort(list1,p+1,last)\n",
        "\n",
        "\n",
        "# main function\n",
        "list1=[4,0,6,2,9]\n",
        "n=len(list1)\n",
        "quicksort(list1,0,n-1)\n",
        "print(list1)\n",
        "\n",
        "\n"
      ]
    },
    {
      "cell_type": "markdown",
      "source": [
        "## Pivot is last element"
      ],
      "metadata": {
        "id": "saEQrRdHcZHq"
      }
    },
    {
      "cell_type": "code",
      "source": [
        "# to get the correct position of the pivot elemenet\n",
        "def pivot_position(list1,first,last):\n",
        "  pivot=list1[last]\n",
        "  left=first\n",
        "  right=last-1\n",
        "  while True:\n",
        "    while left<=right and list1[left]<=pivot:\n",
        "      left+=1\n",
        "    while left<=right and list1[right]>=pivot:\n",
        "      right-=1\n",
        "    if left>right:\n",
        "      break\n",
        "    else:\n",
        "      list1[left],list1[right]=list1[right],list1[left]\n",
        "  list1[last],list1[left]=list1[left],list1[last]\n",
        "  return left\n",
        "def quicksort(list1,first,last):\n",
        "  if first<last:\n",
        "      p=pivot_position(list1,first,last)\n",
        "      quicksort(list1,first,p-1)\n",
        "      quicksort(list1,p+1,last)\n",
        "\n",
        "\n",
        "# main function\n",
        "list1=[4,0,6,2,9]\n",
        "n=len(list1)\n",
        "quicksort(list1,0,n-1)\n",
        "print(list1)"
      ],
      "metadata": {
        "colab": {
          "base_uri": "https://localhost:8080/"
        },
        "id": "ORRDRI57cBpP",
        "outputId": "835bcf37-8412-4a8f-eaee-3849a4fd7feb"
      },
      "execution_count": 1,
      "outputs": [
        {
          "output_type": "stream",
          "name": "stdout",
          "text": [
            "[0, 2, 4, 6, 9]\n"
          ]
        }
      ]
    },
    {
      "cell_type": "markdown",
      "source": [
        "## Pivot element is random number"
      ],
      "metadata": {
        "id": "vwDdDMrbc-fO"
      }
    },
    {
      "cell_type": "code",
      "source": [
        "# to get the correct position of the pivot elemenet\n",
        "import random\n",
        "def pivot_position(list1,first,last):\n",
        "  rindex=random.randint(first,last)\n",
        "  list1[rindex],list1[last]=list1[rindex],list1[last]\n",
        "  pivot=list1[last]\n",
        "  left=first\n",
        "  right=last-1\n",
        "  while True:\n",
        "    while left<=right and list1[left]<=pivot:\n",
        "      left+=1\n",
        "    while left<=right and list1[right]>=pivot:\n",
        "      right-=1\n",
        "    if left>right:\n",
        "      break\n",
        "    else:\n",
        "      list1[left],list1[right]=list1[right],list1[left]\n",
        "  list1[last],list1[left]=list1[left],list1[last]\n",
        "  return left\n",
        "def quicksort(list1,first,last):\n",
        "  if first<last:\n",
        "      p=pivot_position(list1,first,last)\n",
        "      quicksort(list1,first,p-1)\n",
        "      quicksort(list1,p+1,last)\n",
        "\n",
        "\n",
        "# main function\n",
        "list1=[4,0,6,2,9]\n",
        "n=len(list1)\n",
        "quicksort(list1,0,n-1)\n",
        "print(list1)"
      ],
      "metadata": {
        "colab": {
          "base_uri": "https://localhost:8080/"
        },
        "id": "2L6GogmacufQ",
        "outputId": "12022162-af17-41f0-c281-73a74ac2d936"
      },
      "execution_count": 2,
      "outputs": [
        {
          "output_type": "stream",
          "name": "stdout",
          "text": [
            "[0, 2, 4, 6, 9]\n"
          ]
        }
      ]
    },
    {
      "cell_type": "markdown",
      "source": [
        "## pivot is the median of low,high and middle element"
      ],
      "metadata": {
        "id": "TTxj-bVtgPjz"
      }
    },
    {
      "cell_type": "code",
      "source": [
        "# to get the correct position of the pivot elemenet\n",
        "import statistics\n",
        "def pivot_position(list1,first,last):\n",
        "  low=list1[first]\n",
        "  middle=first+last // 2\n",
        "  high=list1[last]\n",
        "  pivot_val=statistics.median([low,list1[middle],high])\n",
        "  if pivot_val==low:\n",
        "    p_index=first\n",
        "  elif pivot_val==high:\n",
        "    p_index=last\n",
        "  else:\n",
        "    p_index=middle\n",
        "  list1[last],list1[p_index]=list1[p_index],list1[last]\n",
        "  pivot=list1[last]\n",
        "  left=first\n",
        "  right=last-1\n",
        "  while True:\n",
        "    while left<=right and list1[left]<=pivot:\n",
        "      left+=1\n",
        "    while left<=right and list1[right]>=pivot:\n",
        "      right-=1\n",
        "    if left>right:\n",
        "      break\n",
        "    else:\n",
        "      list1[left],list1[right]=list1[right],list1[left]\n",
        "  list1[last],list1[left]=list1[left],list1[last]\n",
        "  return left\n",
        "def quicksort(list1,first,last):\n",
        "  if first<last:\n",
        "      p=pivot_position(list1,first,last)\n",
        "      quicksort(list1,first,p-1)\n",
        "      quicksort(list1,p+1,last)\n",
        "\n",
        "\n",
        "# main function\n",
        "list1=[4,0,6,2,9]\n",
        "n=len(list1)\n",
        "quicksort(list1,0,n-1)\n",
        "print(list1)"
      ],
      "metadata": {
        "colab": {
          "base_uri": "https://localhost:8080/"
        },
        "id": "tA0YmWU5d1wJ",
        "outputId": "c76e47db-ce07-4a11-e4e7-2e99fb2749d0"
      },
      "execution_count": 3,
      "outputs": [
        {
          "output_type": "stream",
          "name": "stdout",
          "text": [
            "[0, 2, 4, 6, 9]\n"
          ]
        }
      ]
    }
  ]
}
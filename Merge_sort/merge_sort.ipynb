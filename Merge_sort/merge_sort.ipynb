{
  "nbformat": 4,
  "nbformat_minor": 0,
  "metadata": {
    "colab": {
      "provenance": [],
      "authorship_tag": "ABX9TyOLUba3815iaOLg6vQgd321",
      "include_colab_link": true
    },
    "kernelspec": {
      "name": "python3",
      "display_name": "Python 3"
    },
    "language_info": {
      "name": "python"
    }
  },
  "cells": [
    {
      "cell_type": "markdown",
      "metadata": {
        "id": "view-in-github",
        "colab_type": "text"
      },
      "source": [
        "<a href=\"https://colab.research.google.com/github/sunandhini96/DSA/blob/main/Merge_sort/merge_sort.ipynb\" target=\"_parent\"><img src=\"https://colab.research.google.com/assets/colab-badge.svg\" alt=\"Open In Colab\"/></a>"
      ]
    },
    {
      "cell_type": "markdown",
      "source": [
        "# Merge sort\n",
        "## steps:\n",
        "1. split the unsorted list\n",
        "2. compare each of elements and group them.\n",
        "3. repeat step2 until whole list to be merged and sorted"
      ],
      "metadata": {
        "id": "Cbke2592DJab"
      }
    },
    {
      "cell_type": "code",
      "execution_count": 14,
      "metadata": {
        "colab": {
          "base_uri": "https://localhost:8080/"
        },
        "id": "njRHZXN_DAr9",
        "outputId": "4e607c9a-b4bb-465b-bf36-f8a1f77d0392"
      },
      "outputs": [
        {
          "output_type": "stream",
          "name": "stdout",
          "text": [
            "number of elements you want in a list5\n",
            "65\n",
            "89\n",
            "24\n",
            "15\n",
            "2\n",
            "sorted list is [2, 15, 24, 65, 89]\n"
          ]
        }
      ],
      "source": [
        "def mergesort(list1):\n",
        "    if len(list1)>1:\n",
        "        middle=len(list1)//2\n",
        "        left_list=list1[:middle]\n",
        "        right_list=list1[middle:]\n",
        "        mergesort(left_list)\n",
        "        mergesort(right_list)\n",
        "        i=0\n",
        "        j=0\n",
        "        k=0\n",
        "        while i<len(left_list) and j< len(right_list):\n",
        "            if left_list[i]<right_list[j]:\n",
        "              list1[k]= left_list[i]\n",
        "              i+=1\n",
        "              k+=1\n",
        "            else:\n",
        "              list1[k] = right_list[j]\n",
        "              j+=1\n",
        "              k+=1\n",
        "        while i<len(left_list):\n",
        "           list1[k]=left_list[i]\n",
        "           i+=1\n",
        "           k+=1\n",
        "        while j<len(right_list):\n",
        "           list1[k]=right_list[j]\n",
        "           j+=1\n",
        "           k+=1\n",
        "\n",
        "\n",
        "\n",
        "num=int(input(\"number of elements you want in a list\"))\n",
        "list1=[int(input()) for x in range(num)]\n",
        "mergesort(list1)\n",
        "print(\"sorted list is\",list1)\n"
      ]
    }
  ]
}
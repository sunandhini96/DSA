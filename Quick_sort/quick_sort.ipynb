{
  "nbformat": 4,
  "nbformat_minor": 0,
  "metadata": {
    "colab": {
      "provenance": [],
      "authorship_tag": "ABX9TyML+Bj+0Mb/z6UEpIhk4hjR",
      "include_colab_link": true
    },
    "kernelspec": {
      "name": "python3",
      "display_name": "Python 3"
    },
    "language_info": {
      "name": "python"
    }
  },
  "cells": [
    {
      "cell_type": "markdown",
      "metadata": {
        "id": "view-in-github",
        "colab_type": "text"
      },
      "source": [
        "<a href=\"https://colab.research.google.com/github/sunandhini96/DSA/blob/main/Quick_sort/quick_sort.ipynb\" target=\"_parent\"><img src=\"https://colab.research.google.com/assets/colab-badge.svg\" alt=\"Open In Colab\"/></a>"
      ]
    },
    {
      "cell_type": "markdown",
      "source": [
        "## quick sort : divide, conquer and combine\n",
        "### Steps :     \n",
        "1. left <= right\n",
        "2. a[left]<=pivot\n",
        "3. a[right]>=pivot\n",
        "\n",
        "1. select pivot element\n",
        "2. find out correct position of pivot element in list by rearranging it.\n",
        "3. Divide the list based on pivot element\n",
        "4. sort sublist recursively"
      ],
      "metadata": {
        "id": "JlKktg--m011"
      }
    },
    {
      "cell_type": "markdown",
      "source": [
        "# Ascending Order"
      ],
      "metadata": {
        "id": "7-0yvsBro0F8"
      }
    },
    {
      "cell_type": "code",
      "execution_count": 1,
      "metadata": {
        "colab": {
          "base_uri": "https://localhost:8080/"
        },
        "id": "w9QbqqremyFb",
        "outputId": "d94f31c5-6fcd-4132-87a2-c4897fd4eedf"
      },
      "outputs": [
        {
          "output_type": "stream",
          "name": "stdout",
          "text": [
            "[0, 2, 4, 6, 9]\n"
          ]
        }
      ],
      "source": [
        "# to get the correct position of the pivot elemenet\n",
        "def pivot_position(list1,first,last):\n",
        "  pivot=list1[first]\n",
        "  left=first+1\n",
        "  right=last\n",
        "  while True:\n",
        "    while left<=right and list1[left]<=pivot:\n",
        "      left+=1\n",
        "    while left<=right and list1[right]>=pivot:\n",
        "      right-=1\n",
        "    if left>right:\n",
        "      break\n",
        "    else:\n",
        "      list1[left],list1[right]=list1[right],list1[left]\n",
        "  list1[first],list1[right]=list1[right],list1[first]\n",
        "  return right\n",
        "def quicksort(list1,first,last):\n",
        "  if first<last:\n",
        "      p=pivot_position(list1,first,last)\n",
        "      quicksort(list1,first,p-1)\n",
        "      quicksort(list1,p+1,last)\n",
        "\n",
        "\n",
        "# main function\n",
        "list1=[4,0,6,2,9]\n",
        "n=len(list1)\n",
        "quicksort(list1,0,n-1)\n",
        "print(list1)\n",
        "\n",
        "\n"
      ]
    }
  ]
}
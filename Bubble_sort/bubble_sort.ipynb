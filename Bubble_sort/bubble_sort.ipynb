{
  "nbformat": 4,
  "nbformat_minor": 0,
  "metadata": {
    "colab": {
      "provenance": [],
      "authorship_tag": "ABX9TyOmfSjSQSkpU/NMUjvZG3qC",
      "include_colab_link": true
    },
    "kernelspec": {
      "name": "python3",
      "display_name": "Python 3"
    },
    "language_info": {
      "name": "python"
    }
  },
  "cells": [
    {
      "cell_type": "markdown",
      "metadata": {
        "id": "view-in-github",
        "colab_type": "text"
      },
      "source": [
        "<a href=\"https://colab.research.google.com/github/sunandhini96/DSA/blob/main/Bubble_sort/bubble_sort.ipynb\" target=\"_parent\"><img src=\"https://colab.research.google.com/assets/colab-badge.svg\" alt=\"Open In Colab\"/></a>"
      ]
    },
    {
      "cell_type": "markdown",
      "source": [
        "## Selection sort : comparing each pair of adjacent items and swap them if they are in wrong order\n",
        "### Steps :     \n",
        "1. Starting wit first element(index=0) compare current elemnt with next elemnt\n",
        "2. if current element is greater than next element of list swap them.  \n",
        "3. if current element is less than next element move to next element and repeat the step 1."
      ],
      "metadata": {
        "id": "JlKktg--m011"
      }
    },
    {
      "cell_type": "markdown",
      "source": [
        "# Ascending Order"
      ],
      "metadata": {
        "id": "7-0yvsBro0F8"
      }
    },
    {
      "cell_type": "code",
      "execution_count": 10,
      "metadata": {
        "colab": {
          "base_uri": "https://localhost:8080/"
        },
        "id": "w9QbqqremyFb",
        "outputId": "2befd649-87c6-4263-f687-3da37cb07cf9"
      },
      "outputs": [
        {
          "output_type": "stream",
          "name": "stdout",
          "text": [
            "[10, 15, 4, 10, 4]\n",
            "[10, 4, 15, 10, 4]\n",
            "[10, 4, 10, 15, 4]\n",
            "[10, 4, 10, 4, 15]\n",
            "[4, 10, 10, 4, 15]\n",
            "[4, 10, 10, 4, 15]\n",
            "[4, 10, 4, 10, 15]\n",
            "[4, 10, 4, 10, 15]\n",
            "[4, 4, 10, 10, 15]\n",
            "[4, 4, 10, 10, 15]\n"
          ]
        }
      ],
      "source": [
        "list1=[10,15,4,10,4]\n",
        "for j in range(len(list1)-1):\n",
        "  for i in range(len(list1)-(j+1)):\n",
        "      if list1[i]>list1[i+1]:\n",
        "          list1[i+1],list1[i]=list1[i],list1[i+1]\n",
        "          print(list1)\n",
        "      else:\n",
        "          print(list1)\n",
        "#print(list1)\n",
        "\n",
        "\n",
        "# list1=[10,15,4,23,0]\n",
        "# for j in range(len(list1)-1,0,-1):\n",
        "#   for i in range(j):\n",
        "#       if list1[i]>list1[i+1]:\n",
        "#           list1[i+1],list1[i]=list1[i],list1[i+1]\n",
        "#           print(list1)\n",
        "#       else:\n",
        "#           print(list1)"
      ]
    }
  ]
}